{
 "cells": [
  {
   "cell_type": "code",
   "execution_count": 1,
   "id": "b159605f-b54d-44f5-83fe-114b1ae39158",
   "metadata": {},
   "outputs": [],
   "source": [
    "import cv2 #opencv\n",
    "import os\n",
    "import time\n",
    "import uuid"
   ]
  },
  {
   "cell_type": "code",
   "execution_count": 7,
   "id": "ac809d30-3611-4848-8a29-94ef054993de",
   "metadata": {},
   "outputs": [
    {
     "name": "stdout",
     "output_type": "stream",
     "text": [
      "Collecting opencv-python\n",
      "  Downloading opencv_python-4.12.0.88-cp37-abi3-macosx_13_0_arm64.whl.metadata (19 kB)\n",
      "Collecting numpy<2.3.0,>=2 (from opencv-python)\n",
      "  Downloading numpy-2.2.6-cp310-cp310-macosx_14_0_arm64.whl.metadata (62 kB)\n",
      "Downloading opencv_python-4.12.0.88-cp37-abi3-macosx_13_0_arm64.whl (37.9 MB)\n",
      "\u001b[2K   \u001b[90m━━━━━━━━━━━━━━━━━━━━━━━━━━━━━━━━━━━━━━━━\u001b[0m \u001b[32m37.9/37.9 MB\u001b[0m \u001b[31m6.4 MB/s\u001b[0m  \u001b[33m0:00:05\u001b[0mm0:00:01\u001b[0m00:01\u001b[0m\n",
      "\u001b[?25hDownloading numpy-2.2.6-cp310-cp310-macosx_14_0_arm64.whl (5.3 MB)\n",
      "\u001b[2K   \u001b[90m━━━━━━━━━━━━━━━━━━━━━━━━━━━━━━━━━━━━━━━━\u001b[0m \u001b[32m5.3/5.3 MB\u001b[0m \u001b[31m8.0 MB/s\u001b[0m  \u001b[33m0:00:00\u001b[0m eta \u001b[36m0:00:01\u001b[0m\n",
      "\u001b[?25hInstalling collected packages: numpy, opencv-python\n",
      "\u001b[2K  Attempting uninstall: numpy\n",
      "\u001b[2K    Found existing installation: numpy 1.26.4\n",
      "\u001b[2K    Uninstalling numpy-1.26.4:\n",
      "\u001b[2K      Successfully uninstalled numpy-1.26.4\n",
      "\u001b[2K   \u001b[90m━━━━━━━━━━━━━━━━━━━━━━━━━━━━━━━━━━━━━━━━\u001b[0m \u001b[32m2/2\u001b[0m [opencv-python]0m [opencv-python]\n",
      "\u001b[1A\u001b[2K\u001b[31mERROR: pip's dependency resolver does not currently take into account all the packages that are installed. This behaviour is the source of the following dependency conflicts.\n",
      "tensorflow 2.16.2 requires numpy<2.0.0,>=1.23.5; python_version <= \"3.11\", but you have numpy 2.2.6 which is incompatible.\u001b[0m\u001b[31m\n",
      "\u001b[0mSuccessfully installed numpy-2.2.6 opencv-python-4.12.0.88\n"
     ]
    }
   ],
   "source": [
    "!pip install opencv-python"
   ]
  },
  {
   "cell_type": "code",
   "execution_count": 2,
   "id": "951f0d36-7171-4248-97e7-d5aac3eb5613",
   "metadata": {},
   "outputs": [],
   "source": [
    "IMAGES_PATH = 'Tensorflow/workspace/images/collectedimages'"
   ]
  },
  {
   "cell_type": "code",
   "execution_count": 3,
   "id": "b7c97256-e1a6-4052-b1a0-726de468fa21",
   "metadata": {},
   "outputs": [],
   "source": [
    "labels = ['hello', 'thanks', 'yes', 'no', 'iloveyou']\n",
    "number_imgs = 15"
   ]
  },
  {
   "cell_type": "code",
   "execution_count": 4,
   "id": "6edb3774-3587-4f69-945a-19053e7772af",
   "metadata": {},
   "outputs": [
    {
     "name": "stderr",
     "output_type": "stream",
     "text": [
      "2025-09-02 16:22:39.416 python3.10[63299:3594110] WARNING: AVCaptureDeviceTypeExternal is deprecated for Continuity Cameras. Please use AVCaptureDeviceTypeContinuityCamera and add NSCameraUseContinuityCameraDeviceType to your Info.plist.\n"
     ]
    },
    {
     "name": "stdout",
     "output_type": "stream",
     "text": [
      "Collecting images for hello\n",
      "Finished collecting for hello\n",
      "Collecting images for thanks\n",
      "Finished collecting for thanks\n",
      "Collecting images for yes\n",
      "Finished collecting for yes\n",
      "Collecting images for no\n",
      "Finished collecting for no\n",
      "Collecting images for iloveyou\n",
      "Finished collecting for iloveyou\n",
      "Camera released and windows closed.\n"
     ]
    }
   ],
   "source": [
    "for label in labels:\n",
    "    os.makedirs(os.path.join(IMAGES_PATH, label), exist_ok=True)\n",
    "\n",
    "cap = cv2.VideoCapture(0)  # Open camera once\n",
    "\n",
    "try:\n",
    "    for label in labels:\n",
    "        print(f'Collecting images for {label}')\n",
    "        time.sleep(2)\n",
    "\n",
    "        for imgnum in range(number_imgs):\n",
    "            ret, frame = cap.read()\n",
    "            if not ret:\n",
    "                print(\"Failed to grab frame\")\n",
    "                break\n",
    "\n",
    "            imgname = os.path.join(\n",
    "                IMAGES_PATH, label, f\"{label}.{uuid.uuid1()}.jpg\"\n",
    "            )\n",
    "            cv2.imwrite(imgname, frame)\n",
    "\n",
    "            cv2.imshow('frame', frame)\n",
    "\n",
    "            # Give OpenCV time to refresh window + catch 'q'\n",
    "            if cv2.waitKey(50) & 0xFF == ord('q'):  # <-- 50 ms instead of 1\n",
    "                raise KeyboardInterrupt\n",
    "\n",
    "            time.sleep(0.2)\n",
    "\n",
    "        print(f\"Finished collecting for {label}\")\n",
    "\n",
    "finally:\n",
    "    cap.release()\n",
    "    cv2.destroyAllWindows()\n",
    "    # Extra safeguard: force close if still open\n",
    "    cv2.waitKey(1)\n",
    "    print(\"Camera released and windows closed.\")"
   ]
  },
  {
   "cell_type": "code",
   "execution_count": 4,
   "id": "681b6ee5-b8c2-4e9b-82ed-9bd96104c32c",
   "metadata": {},
   "outputs": [
    {
     "name": "stdout",
     "output_type": "stream",
     "text": [
      "/Users/amir_takian/.pyenv/versions/3.10.11/lib/python3.10/site-packages/object_detection/__init__.py\n"
     ]
    },
    {
     "ename": "ImportError",
     "evalue": "cannot import name 'label_map_util' from 'object_detection.utils' (/Users/amir_takian/.pyenv/versions/3.10.11/lib/python3.10/site-packages/object_detection/utils/__init__.py)",
     "output_type": "error",
     "traceback": [
      "\u001b[0;31m---------------------------------------------------------------------------\u001b[0m",
      "\u001b[0;31mImportError\u001b[0m                               Traceback (most recent call last)",
      "Cell \u001b[0;32mIn[4], line 3\u001b[0m\n\u001b[1;32m      1\u001b[0m \u001b[38;5;28;01mimport\u001b[39;00m\u001b[38;5;250m \u001b[39m\u001b[38;5;21;01mobject_detection\u001b[39;00m\n\u001b[1;32m      2\u001b[0m \u001b[38;5;28mprint\u001b[39m(object_detection\u001b[38;5;241m.\u001b[39m\u001b[38;5;18m__file__\u001b[39m)\n\u001b[0;32m----> 3\u001b[0m \u001b[38;5;28;01mfrom\u001b[39;00m\u001b[38;5;250m \u001b[39m\u001b[38;5;21;01mobject_detection\u001b[39;00m\u001b[38;5;21;01m.\u001b[39;00m\u001b[38;5;21;01mutils\u001b[39;00m\u001b[38;5;250m \u001b[39m\u001b[38;5;28;01mimport\u001b[39;00m label_map_util\n\u001b[1;32m      4\u001b[0m \u001b[38;5;28;01mfrom\u001b[39;00m\u001b[38;5;250m \u001b[39m\u001b[38;5;21;01mobject_detection\u001b[39;00m\u001b[38;5;250m \u001b[39m\u001b[38;5;28;01mimport\u001b[39;00m model_lib_v2\n",
      "\u001b[0;31mImportError\u001b[0m: cannot import name 'label_map_util' from 'object_detection.utils' (/Users/amir_takian/.pyenv/versions/3.10.11/lib/python3.10/site-packages/object_detection/utils/__init__.py)"
     ]
    }
   ],
   "source": [
    "import object_detection\n",
    "print(object_detection.__file__)\n",
    "from object_detection.utils import label_map_util\n",
    "from object_detection import model_lib_v2"
   ]
  },
  {
   "cell_type": "code",
   "execution_count": 2,
   "id": "754731fd-4b3a-44fa-82a1-f24117962e95",
   "metadata": {},
   "outputs": [],
   "source": [
    "import sys\n",
    "sys.path.insert(0, \"/Users/amir_takian/Desktop/RealTimeObjectDetection/Tensorflow/models/research\")"
   ]
  },
  {
   "cell_type": "code",
   "execution_count": 6,
   "id": "ec1cfcd2-205d-4519-9efb-85953c529e7a",
   "metadata": {},
   "outputs": [
    {
     "ename": "NameError",
     "evalue": "name 'PRETRAINED_MODEL_PATH' is not defined",
     "output_type": "error",
     "traceback": [
      "\u001b[0;31m---------------------------------------------------------------------------\u001b[0m",
      "\u001b[0;31mNameError\u001b[0m                                 Traceback (most recent call last)",
      "Cell \u001b[0;32mIn[6], line 8\u001b[0m\n\u001b[1;32m      6\u001b[0m \u001b[38;5;66;03m# TF2 compatible model URL\u001b[39;00m\n\u001b[1;32m      7\u001b[0m model_url \u001b[38;5;241m=\u001b[39m \u001b[38;5;124m\"\u001b[39m\u001b[38;5;124mhttp://download.tensorflow.org/models/object_detection/tf2/20200711/ssd_mobilenet_v2_fpnlite_320x320_coco17_tpu-8.tar.gz\u001b[39m\u001b[38;5;124m\"\u001b[39m\n\u001b[0;32m----> 8\u001b[0m model_dir \u001b[38;5;241m=\u001b[39m \u001b[43mPRETRAINED_MODEL_PATH\u001b[49m \u001b[38;5;241m+\u001b[39m \u001b[38;5;124m'\u001b[39m\u001b[38;5;124m/ssd_mobilenet_v2_fpnlite_320x320_coco17_tpu-8_tf2\u001b[39m\u001b[38;5;124m'\u001b[39m\n\u001b[1;32m     10\u001b[0m \u001b[38;5;66;03m# Create directory\u001b[39;00m\n\u001b[1;32m     11\u001b[0m os\u001b[38;5;241m.\u001b[39mmakedirs(model_dir, exist_ok\u001b[38;5;241m=\u001b[39m\u001b[38;5;28;01mTrue\u001b[39;00m)\n",
      "\u001b[0;31mNameError\u001b[0m: name 'PRETRAINED_MODEL_PATH' is not defined"
     ]
    }
   ],
   "source": [
    "# Download a TF2 compatible model\n",
    "import os\n",
    "import tarfile\n",
    "import urllib.request\n",
    "\n",
    "# TF2 compatible model URL\n",
    "model_url = \"http://download.tensorflow.org/models/object_detection/tf2/20200711/ssd_mobilenet_v2_fpnlite_320x320_coco17_tpu-8.tar.gz\"\n",
    "model_dir = PRETRAINED_MODEL_PATH + '/ssd_mobilenet_v2_fpnlite_320x320_coco17_tpu-8_tf2'\n",
    "\n",
    "# Create directory\n",
    "os.makedirs(model_dir, exist_ok=True)\n",
    "model_tar_path = os.path.join(model_dir, 'model.tar.gz')\n",
    "\n",
    "print(\"Downloading TF2 compatible model...\")\n",
    "urllib.request.urlretrieve(model_url, model_tar_path)\n",
    "\n",
    "# Extract\n",
    "with tarfile.open(model_tar_path, 'r:gz') as tar:\n",
    "    tar.extractall(path=model_dir)\n",
    "\n",
    "print(\"✅ TF2 compatible model downloaded and extracted\")\n",
    "\n",
    "# Update your pipeline config to use the new checkpoint\n",
    "pipeline_config.train_config.fine_tune_checkpoint = os.path.join(model_dir, 'checkpoint', 'ckpt-0')\n",
    "pipeline_config.train_config.fine_tune_checkpoint_type = \"detection\"\n",
    "\n",
    "print(\"✅ Updated config with TF2 compatible checkpoint\")"
   ]
  },
  {
   "cell_type": "code",
   "execution_count": null,
   "id": "b38094bd-6dc5-42c1-bdb4-8bee13a1a08e",
   "metadata": {},
   "outputs": [],
   "source": []
  }
 ],
 "metadata": {
  "kernelspec": {
   "display_name": "Python 3 (ipykernel)",
   "language": "python",
   "name": "python3"
  },
  "language_info": {
   "codemirror_mode": {
    "name": "ipython",
    "version": 3
   },
   "file_extension": ".py",
   "mimetype": "text/x-python",
   "name": "python",
   "nbconvert_exporter": "python",
   "pygments_lexer": "ipython3",
   "version": "3.10.11"
  }
 },
 "nbformat": 4,
 "nbformat_minor": 5
}
